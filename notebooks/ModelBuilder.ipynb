{
 "cells": [
  {
   "cell_type": "code",
   "execution_count": 7,
   "metadata": {},
   "outputs": [],
   "source": [
    "import numpy as np\n",
    "import pandas as pd\n",
    "from sklearn.model_selection import train_test_split\n",
    "from sklearn.metrics import confusion_matrix, ConfusionMatrixDisplay, f1_score\n",
    "from sklearn.tree import DecisionTreeClassifier\n",
    "from sklearn.ensemble import RandomForestClassifier\n",
    "from keras.preprocessing.image import ImageDataGenerator\n",
    "import matplotlib.pyplot as plt\n",
    "from IPython.display import clear_output\n",
    "from keras.callbacks import Callback  \n",
    "from keras.callbacks import ReduceLROnPlateau, EarlyStopping\n",
    "from keras.datasets import mnist\n",
    "from keras.models import Model, Sequential\n",
    "from keras.layers import Input, Flatten, Dense, BatchNormalization, Activation, Dropout, Conv2D, MaxPooling2D, Reshape, UpSampling2D\n",
    "from keras.regularizers import l2, l1, l1_l2\n",
    "from keras.optimizers import Adam, RMSprop, SGD, Adagrad, Adadelta, Adamax, Nadam\n",
    "from tensorflow.keras.utils import img_to_array, load_img\n",
    "import tensorflow as tf\n",
    "from glob import glob\n",
    "from skopt import gp_minimize"
   ]
  },
  {
   "cell_type": "code",
   "execution_count": 6,
   "metadata": {},
   "outputs": [],
   "source": [
    "with open(\"images/1/1038.jpg\", \"rb\") as f:\n",
    "    image_bytes = f.read()\n",
    "\n",
    "from PIL import Image\n",
    "import numpy as np\n",
    "import io\n",
    "\n",
    "img = Image.open(io.BytesIO(image_bytes))\n",
    "img = img.resize((32, 32), Image.BILINEAR)\n",
    "\n",
    "\n",
    "img = img.convert(\"RGB\")\n",
    "img = np.array(img) / 255.0"
   ]
  },
  {
   "cell_type": "code",
   "execution_count": 3,
   "metadata": {},
   "outputs": [],
   "source": [
    "class PlotLosses(Callback):\n",
    "    def __init__(self):\n",
    "        self.i = 0\n",
    "        self.x = []\n",
    "        self.losses = []\n",
    "        self.val_losses = []\n",
    "        self.acc = []\n",
    "        self.val_acc = []        \n",
    "        self.logs = []\n",
    "\n",
    "    def on_epoch_end(self, epoch, logs={}):\n",
    "        \n",
    "        self.logs.append(logs)\n",
    "        self.x.append(self.i)\n",
    "        self.losses.append(logs.get('loss'))\n",
    "        self.val_losses.append(logs.get('val_loss'))\n",
    "        \n",
    "        self.acc.append(logs.get('accuracy'))\n",
    "        self.val_acc.append(logs.get('val_accuracy'))\n",
    "        self.i += 1\n",
    "        \n",
    "        clear_output(wait=True)\n",
    "        fig, axes = plt.subplots(1,2,figsize=(8,3))\n",
    "        \n",
    "        axes[0].plot(self.x, self.losses, label=\"Train loss\")\n",
    "        axes[0].plot(self.x, self.val_losses, label=\"Validation loss\")\n",
    "        #axes[0].set_yscale('log')\n",
    "        axes[0].set_xlabel('Number of epochs')\n",
    "        axes[0].set_ylabel('Losses')\n",
    "        axes[0].legend()\n",
    "            \n",
    "        axes[1].plot(self.x, self.acc, label=\"Train accuracy\")\n",
    "        axes[1].plot(self.x, self.val_acc, label=\"Validation accuracy\")\n",
    "        axes[1].set_xlabel('Number of epochs')\n",
    "        axes[1].set_ylabel('Accuracy')\n",
    "        axes[1].legend()\n",
    "        \n",
    "        plt.tight_layout()\n",
    "        plt.show();"
   ]
  },
  {
   "cell_type": "code",
   "execution_count": 4,
   "metadata": {},
   "outputs": [
    {
     "name": "stdout",
     "output_type": "stream",
     "text": [
      "Found 1652 images belonging to 4 classes.\n",
      "Found 411 images belonging to 4 classes.\n"
     ]
    }
   ],
   "source": [
    "train_datagen = ImageDataGenerator(\n",
    "        rescale=1./255,\n",
    "        horizontal_flip=True, vertical_flip=True, validation_split=0.2, rotation_range=360.)\n",
    "\n",
    "train_generator = train_datagen.flow_from_directory(\n",
    "    directory='images',\n",
    "    class_mode='categorical',\n",
    "    batch_size=32,\n",
    "    target_size=(32, 32),\n",
    "    subset='training'\n",
    ")\n",
    "\n",
    "val_generator = train_datagen.flow_from_directory(\n",
    "    directory='images',\n",
    "    class_mode='categorical',\n",
    "    batch_size=32,\n",
    "    target_size=(32, 32),\n",
    "    subset='validation'\n",
    ")"
   ]
  },
  {
   "cell_type": "code",
   "execution_count": 5,
   "metadata": {},
   "outputs": [
    {
     "name": "stdout",
     "output_type": "stream",
     "text": [
      "<class 'pandas.core.frame.DataFrame'>\n",
      "RangeIndex: 2063 entries, 0 to 2062\n",
      "Data columns (total 14 columns):\n",
      " #   Column          Non-Null Count  Dtype  \n",
      "---  ------          --------------  -----  \n",
      " 0   id              2063 non-null   int64  \n",
      " 1   gal_type        2063 non-null   int64  \n",
      " 2   ra              2063 non-null   float64\n",
      " 3   dec             2063 non-null   float64\n",
      " 4   redshift        2063 non-null   float64\n",
      " 5   log_luminosity  2063 non-null   float64\n",
      " 6   color           2063 non-null   float64\n",
      " 7   radius          2063 non-null   float64\n",
      " 8   b_over_a        2063 non-null   float64\n",
      " 9   pos_angle       2063 non-null   float64\n",
      " 10  bulge_fract     2063 non-null   float64\n",
      " 11  sersic_n        2063 non-null   float64\n",
      " 12  r_bulge         2063 non-null   float64\n",
      " 13  r_disk          2063 non-null   float64\n",
      "dtypes: float64(12), int64(2)\n",
      "memory usage: 225.8 KB\n"
     ]
    }
   ],
   "source": [
    "with open('training_galaxies.dat') as f:\n",
    "    names = f.readline().rstrip().strip(\"#\").split()\n",
    "    df = pd.read_csv(f, sep=r'\\s+', names=names)\n",
    "df.info()\n",
    "\n",
    "\n",
    "\n",
    "gal_type = df['gal_type']\n",
    "df = df.drop('gal_type', axis=1)"
   ]
  },
  {
   "cell_type": "code",
   "execution_count": 8,
   "metadata": {},
   "outputs": [],
   "source": [
    "def train_cnn(train_generator, val_generator, learning_rate = 0.003, dropout_rate = 0.2, l1_reg = 0.01, l2_reg = 0.01, min_lr = 0.0001, epochs = 80, reduce_patience = 5, early_patience = 10):\n",
    "    plot_losses = PlotLosses()\n",
    "    x = Input(shape=(32,32,3))\n",
    "\n",
    "    h = Conv2D(filters = 32, kernel_size=(6,6), activation='relu', padding = 'same')(x)\n",
    "    h = BatchNormalization()(h)\n",
    "    h = MaxPooling2D((2,2))(h)\n",
    "\n",
    "    h = Conv2D(filters = 64, kernel_size=(3,3), activation='relu', padding = 'same')(h)\n",
    "    h = BatchNormalization()(h)\n",
    "    h = MaxPooling2D((2,2))(h)\n",
    "\n",
    "    h = Conv2D(filters = 128, kernel_size=(3,3), activation='relu', padding = 'same')(h)\n",
    "    h = BatchNormalization()(h)\n",
    "    h = MaxPooling2D((2,2))(h)\n",
    "\n",
    "    h = Conv2D(filters = 128, kernel_size=(3,3), activation='relu', padding = 'same')(h)\n",
    "    h = BatchNormalization()(h)\n",
    "    h = MaxPooling2D((2,2))(h)\n",
    "\n",
    "    h = Conv2D(filters = 256, kernel_size=(1,1), activation='relu', padding = 'same')(h)\n",
    "    h = BatchNormalization()(h)\n",
    "    h = MaxPooling2D((2,2))(h)\n",
    "\n",
    "    h = Flatten()(h)\n",
    "\n",
    "    h = Dropout(rate = dropout_rate)(h)\n",
    "    h = Dense(256,activation='relu', kernel_regularizer=l1_l2(l1 = l1_reg, l2 = l2_reg))(h)\n",
    "    \n",
    "    h = Dropout(rate = dropout_rate)(h)\n",
    "    h = Dense(128,activation='relu')(h)\n",
    "\n",
    "    h = Dropout(rate = dropout_rate)(h)\n",
    "    h = Dense(128,activation='relu')(h)\n",
    "\n",
    "    h = Dropout(rate = dropout_rate)(h)\n",
    "    y = Dense(4,activation='softmax')(h)\n",
    "    model = Model(x,y)\n",
    "\n",
    "    model.compile(optimizer=Adam(learning_rate=learning_rate), loss='categorical_crossentropy', metrics =['accuracy'])\n",
    "    model.fit(\n",
    "        train_generator, \n",
    "        validation_data=val_generator, \n",
    "        epochs = epochs,\n",
    "        #verbose  = 0,\n",
    "              callbacks=[\n",
    "                  plot_losses,\n",
    "                  ReduceLROnPlateau(monitor=\"val_loss\", factor = 0.5, patience = reduce_patience, min_lr = min_lr),\n",
    "                  EarlyStopping(monitor=\"val_loss\", patience = early_patience, restore_best_weights=True)\n",
    "                  ])\n",
    "    return model\n",
    "\n",
    "hyperparameters = {\n",
    "    \"learning_rate\": (0.0001, 0.01),\n",
    "    \"dropout_rate\": (0.0, 0.5),\n",
    "    \"l1_reg\": (0.0, 0.01),\n",
    "    \"l2_reg\": (0.0, 0.01),\n",
    "    \"min_lr\": (0.0001, 0.009),\n",
    "    \"epochs\": (10, 100),\n",
    "    \"reduce_patience\": (1, 10),\n",
    "    \"early_patience\": (1, 10),\n",
    "}\n",
    "\n",
    "def cnn_predict(cnn, images):\n",
    "    use_images = images / 255.\n",
    "    pred = cnn.predict(use_images)\n",
    "    gal_predictions = []\n",
    "    for i in pred:\n",
    "        category = np.argmax(i) + 1\n",
    "        gal_predictions.append(category)\n",
    "    return np.asarray(gal_predictions)\n",
    "\n",
    "def objective_function(hypers, *args):\n",
    "    hyperparameters_dict = dict(zip(hyperparameters, hypers))\n",
    "\n",
    "    hyperparameters_dict['epochs'] = int(hyperparameters_dict['epochs'])\n",
    "    hyperparameters_dict['reduce_patience'] = int(hyperparameters_dict['reduce_patience'])\n",
    "    hyperparameters_dict['early_patience'] = int(hyperparameters_dict['early_patience'])\n",
    "\n",
    "\n",
    "    model = train_cnn(train_generator, val_generator, **hyperparameters_dict)\n",
    "    \n",
    "    X_train, X_test, Y_train, Y_test = train_test_split(df, gal_type, test_size = 0.5, random_state=1234)\n",
    "\n",
    "    test_images = np.array([img_to_array(load_img('images/{}/{}.jpg'.format(gt, ID), target_size=(32,32))) \n",
    "                            for gt,ID in zip(Y_test, X_test['id'])])\n",
    "\n",
    "    Y_pred = cnn_predict(model, test_images)\n",
    "\n",
    "    print(\"Score: \",score := f1_score(Y_test, Y_pred, average = \"weighted\"))\n",
    "    return -score\n",
    "\n",
    "result = gp_minimize(objective_function, list(hyperparameters.values()), n_calls = 30)"
   ]
  },
  {
   "cell_type": "code",
   "execution_count": 12,
   "metadata": {},
   "outputs": [
    {
     "name": "stdout",
     "output_type": "stream",
     "text": [
      "F1 Score: 0.8289818478743399, Parameters: [0.0001, 0.0, 0.0, 0.01, 0.009, 66, 1, 10]\n"
     ]
    }
   ],
   "source": [
    "print(f\"F1 Score: {-result.fun}, Parameters: {result.x}\")"
   ]
  },
  {
   "cell_type": "code",
   "execution_count": 2,
   "metadata": {},
   "outputs": [],
   "source": [
    "#cnn = train_cnn(train_generator, val_generator, 0.0001, 0.0, 0.0, 0.01, 0.009, 66, 1 ,10)\n",
    "cnn = tf.keras.models.load_model('models/galaxy-classifier.h5') #Load the model instead of training it"
   ]
  },
  {
   "cell_type": "code",
   "execution_count": 12,
   "metadata": {},
   "outputs": [
    {
     "name": "stdout",
     "output_type": "stream",
     "text": [
      "33/33 [==============================] - 1s 16ms/step\n",
      "Num correct =  841\n",
      "Num total =  1032\n",
      "Fraction correct =  0.814922480620155\n"
     ]
    }
   ],
   "source": [
    "X_train, X_test, Y_train, Y_test = train_test_split(df, gal_type, test_size = 0.5, random_state=1234)\n",
    "\n",
    "test_images = np.array([img_to_array(load_img('images/{}/{}.jpg'.format(gt, ID), target_size=(32,32))) \n",
    "                        for gt,ID in zip(Y_test, X_test['id'])])\n",
    "\n",
    "Y_pred = cnn_predict(cnn, test_images)\n",
    "\n",
    "print('Num correct = ',np.sum(Y_pred == Y_test))\n",
    "print('Num total = ',len(Y_test))\n",
    "print('Fraction correct = ',np.sum(Y_pred == Y_test) / len(Y_test))"
   ]
  },
  {
   "cell_type": "code",
   "execution_count": 13,
   "metadata": {},
   "outputs": [
    {
     "data": {
      "text/plain": [
       "<sklearn.metrics._plot.confusion_matrix.ConfusionMatrixDisplay at 0x1cb6f39de10>"
      ]
     },
     "execution_count": 13,
     "metadata": {},
     "output_type": "execute_result"
    },
    {
     "data": {
      "image/png": "[encoded data removed]",
      "text/plain": [
       "<Figure size 640x480 with 2 Axes>"
      ]
     },
     "metadata": {},
     "output_type": "display_data"
    }
   ],
   "source": [
    "ConfusionMatrixDisplay(confusion_matrix(Y_test, Y_pred, normalize = \"true\"), display_labels = [\"Elliptical\", \"Lenticular\", \"Tight Spiral\", \"Loose Spiral\"]).plot()"
   ]
  },
  {
   "cell_type": "code",
   "execution_count": 14,
   "metadata": {},
   "outputs": [
    {
     "data": {
      "text/plain": [
       "0.815721204986382"
      ]
     },
     "execution_count": 14,
     "metadata": {},
     "output_type": "execute_result"
    }
   ],
   "source": [
    "f1_score(Y_test, Y_pred, average = \"weighted\")"
   ]
  }
 ],
 "metadata": {
  "kernelspec": {
   "display_name": "proj-galaxy-classifier",
   "language": "python",
   "name": "python3"
  },
  "language_info": {
   "codemirror_mode": {
    "name": "ipython",
    "version": 3
   },
   "file_extension": ".py",
   "mimetype": "text/x-python",
   "name": "python",
   "nbconvert_exporter": "python",
   "pygments_lexer": "ipython3",
   "version": "3.10.11"
  },
  "orig_nbformat": 4
 },
 "nbformat": 4,
 "nbformat_minor": 2
}
